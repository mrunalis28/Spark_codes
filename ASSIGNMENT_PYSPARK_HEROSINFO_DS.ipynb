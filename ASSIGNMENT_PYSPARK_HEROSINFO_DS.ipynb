{
  "nbformat": 4,
  "nbformat_minor": 0,
  "metadata": {
    "colab": {
      "name": "ASSIGNMENT_PYSPARK_HEROSINFO_DS.ipynb",
      "provenance": [],
      "authorship_tag": "ABX9TyNjiDCy4xZMQS6HsppfTaIT",
      "include_colab_link": true
    },
    "kernelspec": {
      "name": "python3",
      "display_name": "Python 3"
    },
    "language_info": {
      "name": "python"
    }
  },
  "cells": [
    {
      "cell_type": "markdown",
      "metadata": {
        "id": "view-in-github",
        "colab_type": "text"
      },
      "source": [
        "<a href=\"https://colab.research.google.com/github/mrunalis28/Spark_codes/blob/main/ASSIGNMENT_PYSPARK_HEROSINFO_DS.ipynb\" target=\"_parent\"><img src=\"https://colab.research.google.com/assets/colab-badge.svg\" alt=\"Open In Colab\"/></a>"
      ]
    },
    {
      "cell_type": "code",
      "execution_count": null,
      "metadata": {
        "id": "jluiok0n-apC"
      },
      "outputs": [],
      "source": [
        ""
      ]
    },
    {
      "cell_type": "code",
      "source": [
        "!pip install pyspark\n",
        "!pip install -U -q PyDrive\n",
        "!apt install openjdk-8-jdk-headless -qq\n",
        "import os\n",
        "os.environ[\"JAVA_HOME\"] = \"/usr/lib/jvm/java-8-openjdk-amd64\""
      ],
      "metadata": {
        "colab": {
          "base_uri": "https://localhost:8080/"
        },
        "id": "ZkRtoo_T-lx8",
        "outputId": "ed700d6e-ae59-4d1f-b244-0688f7fc81f8"
      },
      "execution_count": 1,
      "outputs": [
        {
          "output_type": "stream",
          "name": "stdout",
          "text": [
            "Looking in indexes: https://pypi.org/simple, https://us-python.pkg.dev/colab-wheels/public/simple/\n",
            "Collecting pyspark\n",
            "  Downloading pyspark-3.2.1.tar.gz (281.4 MB)\n",
            "\u001b[K     |████████████████████████████████| 281.4 MB 42 kB/s \n",
            "\u001b[?25hCollecting py4j==0.10.9.3\n",
            "  Downloading py4j-0.10.9.3-py2.py3-none-any.whl (198 kB)\n",
            "\u001b[K     |████████████████████████████████| 198 kB 62.8 MB/s \n",
            "\u001b[?25hBuilding wheels for collected packages: pyspark\n",
            "  Building wheel for pyspark (setup.py) ... \u001b[?25l\u001b[?25hdone\n",
            "  Created wheel for pyspark: filename=pyspark-3.2.1-py2.py3-none-any.whl size=281853642 sha256=b054a9923b31f52cdfe65e4e00e8c9279b6aecd52b64489f626e95ba0b752221\n",
            "  Stored in directory: /root/.cache/pip/wheels/9f/f5/07/7cd8017084dce4e93e84e92efd1e1d5334db05f2e83bcef74f\n",
            "Successfully built pyspark\n",
            "Installing collected packages: py4j, pyspark\n",
            "Successfully installed py4j-0.10.9.3 pyspark-3.2.1\n",
            "The following package was automatically installed and is no longer required:\n",
            "  libnvidia-common-460\n",
            "Use 'apt autoremove' to remove it.\n",
            "The following additional packages will be installed:\n",
            "  openjdk-8-jre-headless\n",
            "Suggested packages:\n",
            "  openjdk-8-demo openjdk-8-source libnss-mdns fonts-dejavu-extra\n",
            "  fonts-ipafont-gothic fonts-ipafont-mincho fonts-wqy-microhei\n",
            "  fonts-wqy-zenhei fonts-indic\n",
            "The following NEW packages will be installed:\n",
            "  openjdk-8-jdk-headless openjdk-8-jre-headless\n",
            "0 upgraded, 2 newly installed, 0 to remove and 45 not upgraded.\n",
            "Need to get 36.5 MB of archives.\n",
            "After this operation, 143 MB of additional disk space will be used.\n",
            "Selecting previously unselected package openjdk-8-jre-headless:amd64.\n",
            "(Reading database ... 155632 files and directories currently installed.)\n",
            "Preparing to unpack .../openjdk-8-jre-headless_8u312-b07-0ubuntu1~18.04_amd64.deb ...\n",
            "Unpacking openjdk-8-jre-headless:amd64 (8u312-b07-0ubuntu1~18.04) ...\n",
            "Selecting previously unselected package openjdk-8-jdk-headless:amd64.\n",
            "Preparing to unpack .../openjdk-8-jdk-headless_8u312-b07-0ubuntu1~18.04_amd64.deb ...\n",
            "Unpacking openjdk-8-jdk-headless:amd64 (8u312-b07-0ubuntu1~18.04) ...\n",
            "Setting up openjdk-8-jre-headless:amd64 (8u312-b07-0ubuntu1~18.04) ...\n",
            "update-alternatives: using /usr/lib/jvm/java-8-openjdk-amd64/jre/bin/orbd to provide /usr/bin/orbd (orbd) in auto mode\n",
            "update-alternatives: using /usr/lib/jvm/java-8-openjdk-amd64/jre/bin/servertool to provide /usr/bin/servertool (servertool) in auto mode\n",
            "update-alternatives: using /usr/lib/jvm/java-8-openjdk-amd64/jre/bin/tnameserv to provide /usr/bin/tnameserv (tnameserv) in auto mode\n",
            "Setting up openjdk-8-jdk-headless:amd64 (8u312-b07-0ubuntu1~18.04) ...\n",
            "update-alternatives: using /usr/lib/jvm/java-8-openjdk-amd64/bin/idlj to provide /usr/bin/idlj (idlj) in auto mode\n",
            "update-alternatives: using /usr/lib/jvm/java-8-openjdk-amd64/bin/wsimport to provide /usr/bin/wsimport (wsimport) in auto mode\n",
            "update-alternatives: using /usr/lib/jvm/java-8-openjdk-amd64/bin/jsadebugd to provide /usr/bin/jsadebugd (jsadebugd) in auto mode\n",
            "update-alternatives: using /usr/lib/jvm/java-8-openjdk-amd64/bin/native2ascii to provide /usr/bin/native2ascii (native2ascii) in auto mode\n",
            "update-alternatives: using /usr/lib/jvm/java-8-openjdk-amd64/bin/javah to provide /usr/bin/javah (javah) in auto mode\n",
            "update-alternatives: using /usr/lib/jvm/java-8-openjdk-amd64/bin/hsdb to provide /usr/bin/hsdb (hsdb) in auto mode\n",
            "update-alternatives: using /usr/lib/jvm/java-8-openjdk-amd64/bin/clhsdb to provide /usr/bin/clhsdb (clhsdb) in auto mode\n",
            "update-alternatives: using /usr/lib/jvm/java-8-openjdk-amd64/bin/xjc to provide /usr/bin/xjc (xjc) in auto mode\n",
            "update-alternatives: using /usr/lib/jvm/java-8-openjdk-amd64/bin/schemagen to provide /usr/bin/schemagen (schemagen) in auto mode\n",
            "update-alternatives: using /usr/lib/jvm/java-8-openjdk-amd64/bin/extcheck to provide /usr/bin/extcheck (extcheck) in auto mode\n",
            "update-alternatives: using /usr/lib/jvm/java-8-openjdk-amd64/bin/jhat to provide /usr/bin/jhat (jhat) in auto mode\n",
            "update-alternatives: using /usr/lib/jvm/java-8-openjdk-amd64/bin/wsgen to provide /usr/bin/wsgen (wsgen) in auto mode\n"
          ]
        }
      ]
    },
    {
      "cell_type": "code",
      "source": [
        "from pyspark.sql import SparkSession\n",
        "from pyspark import SparkContext, SparkConf"
      ],
      "metadata": {
        "id": "trLz_VPm_Ub5"
      },
      "execution_count": 2,
      "outputs": []
    },
    {
      "cell_type": "code",
      "source": [
        "# create the session\n",
        "conf = SparkConf().set(\"spark.ui.port\", \"4050\")"
      ],
      "metadata": {
        "id": "tdc_up2G_Wy4"
      },
      "execution_count": 3,
      "outputs": []
    },
    {
      "cell_type": "code",
      "source": [
        "# create the context\n",
        "import pyspark\n",
        "sc = pyspark.SparkContext(conf=conf)\n",
        "spark = SparkSession.builder.getOrCreate()"
      ],
      "metadata": {
        "id": "0vVoio44_g8b"
      },
      "execution_count": 4,
      "outputs": []
    },
    {
      "cell_type": "code",
      "source": [
        "from google.colab import files\n",
        "files.upload()"
      ],
      "metadata": {
        "colab": {
          "resources": {
            "http://localhost:8080/nbextensions/google.colab/files.js": {
              "data": "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",
              "ok": true,
              "headers": [
                [
                  "content-type",
                  "application/javascript"
                ]
              ],
              "status": 200,
              "status_text": ""
            }
          },
          "base_uri": "https://localhost:8080/",
          "height": 111
        },
        "id": "wY2-d46t_umk",
        "outputId": "ad82a12a-6a18-4426-86ea-9ee154cd88ac"
      },
      "execution_count": 6,
      "outputs": [
        {
          "output_type": "display_data",
          "data": {
            "text/plain": [
              "<IPython.core.display.HTML object>"
            ],
            "text/html": [
              "\n",
              "     <input type=\"file\" id=\"files-0eaa7159-137c-4e56-af60-fd92cdd73031\" name=\"files[]\" multiple disabled\n",
              "        style=\"border:none\" />\n",
              "     <output id=\"result-0eaa7159-137c-4e56-af60-fd92cdd73031\">\n",
              "      Upload widget is only available when the cell has been executed in the\n",
              "      current browser session. Please rerun this cell to enable.\n",
              "      </output>\n",
              "      <script src=\"/nbextensions/google.colab/files.js\"></script> "
            ]
          },
          "metadata": {}
        },
        {
          "output_type": "stream",
          "name": "stdout",
          "text": [
            "Saving heroes_information.csv to heroes_information.csv\n"
          ]
        },
        {
          "output_type": "execute_result",
          "data": {
            "text/plain": [
              "{'heroes_information.csv': b\",name,Gender,Eye color,Race,Hair color,Height,Publisher,Skin color,Alignment,Weight\\r\\n0,A-Bomb,Male,yellow,Human,No Hair,203.0,Marvel Comics,-,good,441.0\\r\\n1,Abe Sapien,Male,blue,Icthyo Sapien,No Hair,191.0,Dark Horse Comics,blue,good,65.0\\r\\n2,Abin Sur,Male,blue,Ungaran,No Hair,185.0,DC Comics,red,good,90.0\\r\\n3,Abomination,Male,green,Human / Radiation,No Hair,203.0,Marvel Comics,-,bad,441.0\\r\\n4,Abraxas,Male,blue,Cosmic Entity,Black,-99.0,Marvel Comics,-,bad,-99.0\\r\\n5,Absorbing Man,Male,blue,Human,No Hair,193.0,Marvel Comics,-,bad,122.0\\r\\n6,Adam Monroe,Male,blue,-,Blond,-99.0,NBC - Heroes,-,good,-99.0\\r\\n7,Adam Strange,Male,blue,Human,Blond,185.0,DC Comics,-,good,88.0\\r\\n8,Agent 13,Female,blue,-,Blond,173.0,Marvel Comics,-,good,61.0\\r\\n9,Agent Bob,Male,brown,Human,Brown,178.0,Marvel Comics,-,good,81.0\\r\\n10,Agent Zero,Male,-,-,-,191.0,Marvel Comics,-,good,104.0\\r\\n11,Air-Walker,Male,blue,-,White,188.0,Marvel Comics,-,bad,108.0\\r\\n12,Ajax,Male,brown,Cyborg,Black,193.0,Marvel Comics,-,bad,90.0\\r\\n13,Alan Scott,Male,blue,-,Blond,180.0,DC Comics,-,good,90.0\\r\\n14,Alex Mercer,Male,-,Human,-,-99.0,Wildstorm,-,bad,-99.0\\r\\n15,Alex Woolsly,Male,-,-,-,-99.0,NBC - Heroes,-,good,-99.0\\r\\n16,Alfred Pennyworth,Male,blue,Human,Black,178.0,DC Comics,-,good,72.0\\r\\n17,Alien,Male,-,Xenomorph XX121,No Hair,244.0,Dark Horse Comics,black,bad,169.0\\r\\n18,Allan Quatermain,Male,-,-,-,-99.0,Wildstorm,-,good,-99.0\\r\\n19,Amazo,Male,red,Android,-,257.0,DC Comics,-,bad,173.0\\r\\n20,Ammo,Male,brown,Human,Black,188.0,Marvel Comics,-,bad,101.0\\r\\n21,Ando Masahashi,Male,-,-,-,-99.0,NBC - Heroes,-,good,-99.0\\r\\n22,Angel,Male,blue,-,Blond,183.0,Marvel Comics,-,good,68.0\\r\\n23,Angel,Male,-,Vampire,-,-99.0,Dark Horse Comics,-,good,-99.0\\r\\n24,Angel Dust,Female,yellow,Mutant,Black,165.0,Marvel Comics,-,good,57.0\\r\\n25,Angel Salvadore,Female,brown,-,Black,163.0,Marvel Comics,-,good,54.0\\r\\n26,Angela,Female,-,-,-,-99.0,Image Comics,-,bad,-99.0\\r\\n27,Animal Man,Male,blue,Human,Blond,183.0,DC Comics,-,good,83.0\\r\\n28,Annihilus,Male,green,-,No Hair,180.0,Marvel Comics,-,bad,90.0\\r\\n29,Ant-Man,Male,blue,Human,Blond,211.0,Marvel Comics,-,good,122.0\\r\\n30,Ant-Man II,Male,blue,Human,Blond,183.0,Marvel Comics,-,good,86.0\\r\\n31,Anti-Monitor,Male,yellow,God / Eternal,No Hair,61.0,DC Comics,-,bad,-99.0\\r\\n32,Anti-Spawn,Male,-,-,-,-99.0,Image Comics,-,bad,-99.0\\r\\n33,Anti-Venom,Male,blue,Symbiote,Blond,229.0,Marvel Comics,-,-,358.0\\r\\n34,Apocalypse,Male,red,Mutant,Black,213.0,Marvel Comics,grey,bad,135.0\\r\\n35,Aquababy,Male,blue,-,Blond,-99.0,DC Comics,-,good,-99.0\\r\\n36,Aqualad,Male,blue,Atlantean,Black,178.0,DC Comics,-,good,106.0\\r\\n37,Aquaman,Male,blue,Atlantean,Blond,185.0,DC Comics,-,good,146.0\\r\\n38,Arachne,Female,blue,Human,Blond,175.0,Marvel Comics,-,good,63.0\\r\\n39,Archangel,Male,blue,Mutant,Blond,183.0,Marvel Comics,blue,good,68.0\\r\\n40,Arclight,Female,violet,-,Purple,173.0,Marvel Comics,-,bad,57.0\\r\\n41,Ardina,Female,white,Alien,Orange,193.0,Marvel Comics,gold,good,98.0\\r\\n42,Ares,Male,brown,-,Brown,185.0,Marvel Comics,-,good,270.0\\r\\n43,Ariel,Female,purple,-,Pink,165.0,Marvel Comics,-,good,59.0\\r\\n44,Armor,Female,black,-,Black,163.0,Marvel Comics,-,good,50.0\\r\\n45,Arsenal,Male,-,Human,-,-99.0,DC Comics,-,good,-99.0\\r\\n46,Astro Boy,Male,brown,-,Black,-99.0,,-,good,-99.0\\r\\n47,Atlas,Male,brown,Mutant,Red,183.0,Marvel Comics,-,good,101.0\\r\\n48,Atlas,Male,blue,God / Eternal,Brown,198.0,DC Comics,-,bad,126.0\\r\\n49,Atom,Male,blue,-,Red,178.0,DC Comics,-,good,68.0\\r\\n50,Atom,Male,-,-,-,-99.0,DC Comics,-,good,-99.0\\r\\n51,Atom Girl,Female,black,-,Black,168.0,DC Comics,-,good,54.0\\r\\n52,Atom II,Male,brown,Human,Auburn,183.0,DC Comics,-,good,81.0\\r\\n53,Atom III,Male,-,-,Red,-99.0,DC Comics,-,good,-99.0\\r\\n54,Atom IV,Male,brown,-,Black,-99.0,DC Comics,-,good,72.0\\r\\n55,Aurora,Female,blue,Mutant,Black,180.0,Marvel Comics,-,good,63.0\\r\\n56,Azazel,Male,yellow,Neyaphem,Black,183.0,Marvel Comics,red,bad,67.0\\r\\n57,Azrael,Male,brown,Human,Black,-99.0,DC Comics,-,good,-99.0\\r\\n58,Aztar,Male,-,-,-,-99.0,DC Comics,-,good,-99.0\\r\\n59,Bane,Male,-,Human,-,203.0,DC Comics,-,bad,180.0\\r\\n60,Banshee,Male,green,Human,Strawberry Blond,183.0,Marvel Comics,-,good,77.0\\r\\n61,Bantam,Male,brown,-,Black,165.0,Marvel Comics,-,good,54.0\\r\\n62,Batgirl,Female,-,-,-,-99.0,DC Comics,-,good,-99.0\\r\\n63,Batgirl,Female,green,Human,Red,170.0,DC Comics,-,good,57.0\\r\\n64,Batgirl III,Female,-,-,-,-99.0,DC Comics,-,good,-99.0\\r\\n65,Batgirl IV,Female,green,Human,Black,165.0,DC Comics,-,good,52.0\\r\\n66,Batgirl V,Female,-,-,-,-99.0,DC Comics,-,good,-99.0\\r\\n67,Batgirl VI,Female,blue,-,Blond,168.0,DC Comics,-,good,61.0\\r\\n68,Batman,Male,blue,Human,black,188.0,DC Comics,-,good,95.0\\r\\n69,Batman,Male,blue,Human,Black,178.0,DC Comics,-,good,77.0\\r\\n70,Batman II,Male,blue,Human,Black,178.0,DC Comics,-,good,79.0\\r\\n71,Battlestar,Male,brown,-,Black,198.0,Marvel Comics,-,good,133.0\\r\\n72,Batwoman V,Female,green,Human,Red,178.0,DC Comics,-,good,-99.0\\r\\n73,Beak,Male,black,-,White,175.0,Marvel Comics,-,good,63.0\\r\\n74,Beast,Male,blue,Mutant,Blue,180.0,Marvel Comics,blue,good,181.0\\r\\n75,Beast Boy,Male,green,Human,Green,173.0,DC Comics,green,good,68.0\\r\\n76,Beetle,Male,-,-,-,-99.0,Marvel Comics,-,bad,-99.0\\r\\n77,Ben 10,Male,-,-,-,-99.0,DC Comics,-,good,-99.0\\r\\n78,Beta Ray Bill,Male,-,-,No Hair,201.0,Marvel Comics,-,good,216.0\\r\\n79,Beyonder,Male,-,God / Eternal,-,-99.0,Marvel Comics,-,good,-99.0\\r\\n80,Big Barda,Female,blue,New God,Black,188.0,DC Comics,-,bad,135.0\\r\\n81,Big Daddy,Male,-,-,-,-99.0,Icon Comics,-,good,-99.0\\r\\n82,Big Man,Male,blue,-,Brown,165.0,Marvel Comics,-,bad,71.0\\r\\n83,Bill Harken,Male,-,Alpha,-,-99.0,SyFy,-,good,-99.0\\r\\n84,Billy Kincaid,Male,-,-,-,-99.0,Image Comics,-,bad,-99.0\\r\\n85,Binary,Female,blue,-,Blond,180.0,Marvel Comics,-,good,54.0\\r\\n86,Bionic Woman,Female,blue,Cyborg,Black,-99.0,,-,good,-99.0\\r\\n87,Bird-Brain,-,-,-,-,-99.0,Marvel Comics,-,good,-99.0\\r\\n88,Bird-Man,Male,-,Human,-,-99.0,Marvel Comics,-,bad,-99.0\\r\\n89,Bird-Man II,Male,-,Human,-,-99.0,Marvel Comics,-,bad,-99.0\\r\\n90,Birdman,Male,-,God / Eternal,-,-99.0,Hanna-Barbera,-,good,-99.0\\r\\n91,Bishop,Male,brown,Mutant,No Hair,198.0,Marvel Comics,-,good,124.0\\r\\n92,Bizarro,Male,black,Bizarro,Black,191.0,DC Comics,white,neutral,155.0\\r\\n93,Black Abbott,Male,red,-,Black,-99.0,Marvel Comics,-,bad,-99.0\\r\\n94,Black Adam,Male,brown,-,Black,191.0,DC Comics,-,bad,113.0\\r\\n95,Black Bolt,Male,blue,Inhuman,Black,188.0,Marvel Comics,-,good,95.0\\r\\n96,Black Canary,Female,blue,Human,Blond,165.0,DC Comics,-,good,58.0\\r\\n97,Black Canary,Female,blue,Metahuman,Blond,170.0,DC Comics,-,good,59.0\\r\\n98,Black Cat,Female,green,Human,Blond,178.0,Marvel Comics,-,good,54.0\\r\\n99,Black Flash,Male,-,God / Eternal,-,-99.0,DC Comics,-,neutral,-99.0\\r\\n100,Black Goliath,Male,-,-,-,-99.0,Marvel Comics,-,good,-99.0\\r\\n101,Black Knight III,Male,brown,Human,Brown,183.0,Marvel Comics,-,good,86.0\\r\\n102,Black Lightning,Male,brown,-,No Hair,185.0,DC Comics,-,good,90.0\\r\\n103,Black Mamba,Female,green,-,Black,170.0,Marvel Comics,-,bad,52.0\\r\\n104,Black Manta,Male,black,Human,No Hair,188.0,DC Comics,-,bad,92.0\\r\\n105,Black Panther,Male,brown,Human,Black,183.0,Marvel Comics,-,good,90.0\\r\\n106,Black Widow,Female,green,Human,Auburn,170.0,Marvel Comics,-,good,59.0\\r\\n107,Black Widow II,Female,blue,-,Blond,170.0,Marvel Comics,-,good,61.0\\r\\n108,Blackout,Male,red,Demon,White,191.0,Marvel Comics,white,bad,104.0\\r\\n109,Blackwing,Male,blue,-,Black,185.0,Marvel Comics,-,bad,86.0\\r\\n110,Blackwulf,Male,red,Alien,White,188.0,Marvel Comics,-,-,88.0\\r\\n111,Blade,Male,brown,Vampire,Black,188.0,Marvel Comics,-,good,97.0\\r\\n112,Blaquesmith,-,black,-,No Hair,-99.0,Marvel Comics,-,good,-99.0\\r\\n113,Bling!,Female,-,-,-,168.0,Marvel Comics,-,good,68.0\\r\\n114,Blink,Female,green,Mutant,Magenta,165.0,Marvel Comics,pink,good,56.0\\r\\n115,Blizzard,Male,-,-,-,-99.0,Marvel Comics,-,bad,-99.0\\r\\n116,Blizzard,Male,-,-,Brown,-99.0,Marvel Comics,-,bad,-99.0\\r\\n117,Blizzard II,Male,brown,-,Brown,175.0,Marvel Comics,-,bad,77.0\\r\\n118,Blob,Male,brown,-,Brown,178.0,Marvel Comics,-,bad,230.0\\r\\n119,Bloodaxe,Female,blue,Human,Brown,218.0,Marvel Comics,-,bad,495.0\\r\\n120,Bloodhawk,Male,black,Mutant,No Hair,-99.0,Marvel Comics,-,good,-99.0\\r\\n121,Bloodwraith,Male,white,-,No Hair,30.5,Marvel Comics,-,bad,-99.0\\r\\n122,Blue Beetle,Male,blue,-,Brown,-99.0,DC Comics,-,good,-99.0\\r\\n123,Blue Beetle,Male,-,-,-,-99.0,DC Comics,-,good,-99.0\\r\\n124,Blue Beetle II,Male,blue,-,Brown,183.0,DC Comics,-,good,86.0\\r\\n125,Blue Beetle III,Male,brown,Human,Black,-99.0,DC Comics,-,good,-99.0\\r\\n126,Boba Fett,Male,brown,Human / Clone,Black,183.0,George Lucas,-,bad,-99.0\\r\\n127,Bolt,Male,-,-,-,-99.0,Marvel Comics,-,good,-99.0\\r\\n128,Bomb Queen,Female,-,-,-,-99.0,Image Comics,-,bad,-99.0\\r\\n129,Boom-Boom,Female,blue,Mutant,Blond,165.0,Marvel Comics,-,good,55.0\\r\\n130,Boomer,Female,-,-,-,-99.0,Marvel Comics,-,good,-99.0\\r\\n131,Booster Gold,Male,blue,Human,Blond,196.0,DC Comics,-,good,97.0\\r\\n132,Box,Male,-,-,-,-99.0,Marvel Comics,-,good,-99.0\\r\\n133,Box III,-,blue,-,Blond,193.0,Marvel Comics,-,good,110.0\\r\\n134,Box IV,-,brown,-,Brown / Black,-99.0,Marvel Comics,-,good,-99.0\\r\\n135,Brainiac,Male,green,Android,No Hair,198.0,DC Comics,green,bad,135.0\\r\\n136,Brainiac 5,Male,green,-,Blond,170.0,DC Comics,-,good,61.0\\r\\n137,Brother Voodoo,Male,brown,Human,Brown / White,183.0,Marvel Comics,-,good,99.0\\r\\n138,Brundlefly,Male,-,Mutant,-,193.0,,-,-,-99.0\\r\\n139,Buffy,Female,green,Human,Blond,157.0,Dark Horse Comics,-,good,52.0\\r\\n140,Bullseye,Male,blue,Human,blond,183.0,Marvel Comics,-,bad,90.0\\r\\n141,Bumblebee,Female,brown,Human,Black,170.0,DC Comics,-,good,59.0\\r\\n142,Bumbleboy,Male,-,-,-,-99.0,Marvel Comics,-,good,-99.0\\r\\n143,Bushido,Male,-,Human,-,-99.0,DC Comics,-,good,-99.0\\r\\n144,Cable,Male,blue,Mutant,White,203.0,Marvel Comics,-,good,158.0\\r\\n145,Callisto,Female,blue,-,Black,175.0,Marvel Comics,-,bad,74.0\\r\\n146,Cameron Hicks,Male,-,Alpha,-,-99.0,SyFy,-,good,-99.0\\r\\n147,Cannonball,Male,blue,-,Blond,183.0,Marvel Comics,-,good,81.0\\r\\n148,Captain America,Male,blue,Human,blond,188.0,Marvel Comics,-,good,108.0\\r\\n149,Captain Atom,Male,blue,Human / Radiation,Silver,193.0,DC Comics,silver,good,90.0\\r\\n150,Captain Britain,Male,blue,Human,Blond,198.0,Marvel Comics,-,good,116.0\\r\\n151,Captain Cold,Male,brown,Human,Brown,-99.0,DC Comics,-,neutral,-99.0\\r\\n152,Captain Epic,Male,blue,-,Brown,188.0,Team Epic TV,-,good,-99.0\\r\\n153,Captain Hindsight,Male,-,Human,Black,-99.0,South Park,-,good,-99.0\\r\\n154,Captain Mar-vell,Male,blue,-,Blond,188.0,Marvel Comics,-,good,108.0\\r\\n155,Captain Marvel,Female,blue,Human-Kree,Blond,180.0,Marvel Comics,-,good,74.0\\r\\n156,Captain Marvel,Male,blue,Human,Black,193.0,DC Comics,-,good,101.0\\r\\n157,Captain Marvel II,Male,blue,Human,Black,175.0,DC Comics,-,good,74.0\\r\\n158,Captain Midnight,Male,-,Human,-,-99.0,Dark Horse Comics,-,good,-99.0\\r\\n159,Captain Planet,Male,red,God / Eternal,Green,-99.0,Marvel Comics,-,good,-99.0\\r\\n160,Captain Universe,-,-,God / Eternal,-,-99.0,Marvel Comics,-,good,-99.0\\r\\n161,Carnage,Male,green,Symbiote,Red,185.0,Marvel Comics,-,bad,86.0\\r\\n162,Cat,Female,blue,-,Blond,173.0,Marvel Comics,-,good,61.0\\r\\n163,Cat II,Female,-,-,-,-99.0,Marvel Comics,-,good,-99.0\\r\\n164,Catwoman,Female,green,Human,Black,175.0,DC Comics,-,good,61.0\\r\\n165,Cecilia Reyes,-,brown,-,Brown,170.0,Marvel Comics,-,good,62.0\\r\\n166,Century,Male,white,Alien,White,201.0,Marvel Comics,grey,good,97.0\\r\\n167,Cerebra,Female,-,Mutant,-,-99.0,Marvel Comics,-,good,-99.0\\r\\n168,Chamber,Male,brown,Mutant,Brown,175.0,Marvel Comics,-,good,63.0\\r\\n169,Chameleon,Male,-,-,-,-99.0,DC Comics,-,bad,-99.0\\r\\n170,Changeling,Male,brown,-,Black,180.0,Marvel Comics,-,bad,81.0\\r\\n171,Cheetah,Female,green,Human,Blond,163.0,DC Comics,-,bad,50.0\\r\\n172,Cheetah II,Female,green,Human,Brown,170.0,DC Comics,-,bad,55.0\\r\\n173,Cheetah III,Female,brown,Human,Brown,175.0,DC Comics,-,bad,54.0\\r\\n174,Chromos,Male,brown,-,Red / Grey,185.0,Team Epic TV,-,bad,86.0\\r\\n175,Chuck Norris,Male,-,-,-,178.0,,-,good,-99.0\\r\\n176,Citizen Steel,Male,green,Human,Red,183.0,DC Comics,-,good,170.0\\r\\n177,Claire Bennet,Female,blue,-,Blond,-99.0,NBC - Heroes,-,good,-99.0\\r\\n178,Clea,-,-,-,White,-99.0,Marvel Comics,-,good,-99.0\\r\\n179,Cloak,Male,brown,-,black,226.0,Marvel Comics,-,good,70.0\\r\\n180,Clock King,Male,blue,Human,Black,178.0,DC Comics,-,bad,78.0\\r\\n181,Cogliostro,Male,-,-,-,-99.0,Image Comics,-,bad,-99.0\\r\\n182,Colin Wagner,Male,grey,-,Brown,-99.0,HarperCollins,-,good,-99.0\\r\\n183,Colossal Boy,Male,-,-,-,-99.0,DC Comics,-,good,-99.0\\r\\n184,Colossus,Male,silver,Mutant,Black,226.0,Marvel Comics,-,good,225.0\\r\\n185,Copycat,Female,red,Mutant,White,183.0,Marvel Comics,blue,neutral,67.0\\r\\n186,Corsair,Male,brown,-,Brown,191.0,Marvel Comics,-,good,79.0\\r\\n187,Cottonmouth,Male,brown,Human,Black,183.0,Marvel Comics,-,bad,99.0\\r\\n188,Crimson Crusader,Male,blue,-,Strawberry Blond,-99.0,Marvel Comics,-,good,-99.0\\r\\n189,Crimson Dynamo,Male,brown,-,No Hair,180.0,Marvel Comics,-,good,104.0\\r\\n190,Crystal,Female,green,Inhuman,Red,168.0,Marvel Comics,-,good,50.0\\r\\n191,Curse,Male,-,-,-,-99.0,Image Comics,-,bad,-99.0\\r\\n192,Cy-Gor,Male,-,-,-,-99.0,Image Comics,-,bad,-99.0\\r\\n193,Cyborg,Male,brown,Cyborg,Black,198.0,DC Comics,-,good,173.0\\r\\n194,Cyborg Superman,Male,blue,Cyborg,Black,-99.0,DC Comics,-,bad,-99.0\\r\\n195,Cyclops,Male,brown,Mutant,Brown,191.0,Marvel Comics,-,good,88.0\\r\\n196,Cypher,-,blue,-,Blond,175.0,Marvel Comics,-,good,68.0\\r\\n197,Dagger,Female,blue,-,Blond,165.0,Marvel Comics,-,good,52.0\\r\\n198,Danny Cooper,Male,brown,-,Blond,-99.0,HarperCollins,-,good,-99.0\\r\\n199,Daphne Powell,Female,-,-,-,-99.0,ABC Studios,-,good,-99.0\\r\\n200,Daredevil,Male,blue,Human,Red,183.0,Marvel Comics,-,good,90.0\\r\\n201,Darkhawk,Male,brown,Human,Brown,185.0,Marvel Comics,-,good,81.0\\r\\n202,Darkman,Male,-,-,-,-99.0,Universal Studios,-,good,-99.0\\r\\n203,Darkseid,Male,red,New God,No Hair,267.0,DC Comics,grey,bad,817.0\\r\\n204,Darkside,-,-,-,-,-99.0,,-,bad,-99.0\\r\\n205,Darkstar,Female,brown,Mutant,Blond,168.0,Marvel Comics,-,good,56.0\\r\\n206,Darth Maul,Male,yellow / red,Dathomirian Zabrak,-,170.0,George Lucas,red / black,bad,-99.0\\r\\n207,Darth Vader,Male,yellow,Cyborg,No Hair,198.0,George Lucas,-,bad,135.0\\r\\n208,Dash,Male,blue,Human,Blond,122.0,Dark Horse Comics,-,good,27.0\\r\\n209,Data,Male,yellow,Android,Brown,-99.0,Star Trek,-,good,-99.0\\r\\n210,Dazzler,Female,blue,Mutant,Blond,173.0,Marvel Comics,-,good,52.0\\r\\n211,Deadman,Male,blue,Human,Black,183.0,DC Comics,-,good,90.0\\r\\n212,Deadpool,Male,brown,Mutant,No Hair,188.0,Marvel Comics,-,neutral,95.0\\r\\n213,Deadshot,Male,brown,Human,Brown,185.0,DC Comics,-,bad,91.0\\r\\n214,Deathlok,Male,brown,Cyborg,Grey,193.0,Marvel Comics,-,good,178.0\\r\\n215,Deathstroke,Male,blue,Human,White,193.0,DC Comics,-,neutral,101.0\\r\\n216,Demogoblin,Male,red,Demon,No Hair,185.0,Marvel Comics,-,bad,95.0\\r\\n217,Destroyer,Male,-,-,-,188.0,Marvel Comics,-,bad,383.0\\r\\n218,Diamondback,Male,brown,Human,Black,193.0,Marvel Comics,-,bad,90.0\\r\\n219,DL Hawkins,Male,-,-,-,-99.0,NBC - Heroes,-,good,-99.0\\r\\n220,Doc Samson,Male,blue,Human / Radiation,Green,198.0,Marvel Comics,-,good,171.0\\r\\n221,Doctor Doom,Male,brown,Human,Brown,201.0,Marvel Comics,-,bad,187.0\\r\\n222,Doctor Doom II,Male,brown,-,Brown,201.0,Marvel Comics,-,bad,132.0\\r\\n223,Doctor Fate,Male,blue,Human,Blond,188.0,DC Comics,-,good,89.0\\r\\n224,Doctor Octopus,Male,brown,Human,Brown,175.0,Marvel Comics,-,bad,110.0\\r\\n225,Doctor Strange,Male,grey,Human,Black,188.0,Marvel Comics,-,good,81.0\\r\\n226,Domino,Female,blue,Human,Black,173.0,Marvel Comics,white,good,54.0\\r\\n227,Donatello,Male,green,Mutant,No Hair,-99.0,IDW Publishing,green,good,-99.0\\r\\n228,Donna Troy,Female,blue,Amazon,Black,175.0,DC Comics,-,good,63.0\\r\\n229,Doomsday,Male,red,Alien,White,244.0,DC Comics,-,bad,412.0\\r\\n230,Doppelganger,Male,white,-,No Hair,196.0,Marvel Comics,-,bad,104.0\\r\\n231,Dormammu,Male,yellow,-,No Hair,185.0,Marvel Comics,-,bad,-99.0\\r\\n232,Dr Manhattan,Male,white,Human / Cosmic,No Hair,-99.0,DC Comics,blue,good,-99.0\\r\\n233,Drax the Destroyer,Male,red,Human / Altered,No Hair,193.0,Marvel Comics,green,good,306.0\\r\\n234,Ego,-,-,-,-,-99.0,Marvel Comics,-,bad,-99.0\\r\\n235,Elastigirl,Female,brown,Human,Brown,168.0,Dark Horse Comics,-,good,56.0\\r\\n236,Electro,Male,blue,Human,Auburn,180.0,Marvel Comics,-,bad,74.0\\r\\n237,Elektra,Female,blue,Human,Black,175.0,Marvel Comics,-,good,59.0\\r\\n238,Elle Bishop,Female,blue,-,Blond,-99.0,NBC - Heroes,-,bad,-99.0\\r\\n239,Elongated Man,Male,blue,-,Red,185.0,DC Comics,-,good,80.0\\r\\n240,Emma Frost,Female,blue,-,Blond,178.0,Marvel Comics,-,good,65.0\\r\\n241,Enchantress,Female,blue,Human,Blond,168.0,DC Comics,-,good,57.0\\r\\n242,Energy,Female,-,-,-,-99.0,HarperCollins,-,good,-99.0\\r\\n243,ERG-1,Male,-,-,-,-99.0,DC Comics,-,good,-99.0\\r\\n244,Ethan Hunt,Male,brown,Human,Brown,168.0,,-,good,-99.0\\r\\n245,Etrigan,Male,red,Demon,No Hair,193.0,DC Comics,yellow,neutral,203.0\\r\\n246,Evil Deadpool,Male,white,Mutant,Red,188.0,Marvel Comics,-,bad,95.0\\r\\n247,Evilhawk,Male,red,Alien,Black,191.0,Marvel Comics,green,bad,106.0\\r\\n248,Exodus,Male,blue,Mutant,Black,183.0,Marvel Comics,red,bad,88.0\\r\\n249,Fabian Cortez,-,blue,-,Brown,196.0,Marvel Comics,-,bad,96.0\\r\\n250,Falcon,Male,brown,Human,Black,188.0,Marvel Comics,-,good,108.0\\r\\n251,Fallen One II,Male,black,-,Blue,-99.0,Marvel Comics,-,bad,-99.0\\r\\n252,Faora,Female,-,Kryptonian,-,-99.0,DC Comics,-,bad,-99.0\\r\\n253,Feral,-,yellow (without irises),-,Orange / White,175.0,Marvel Comics,-,good,50.0\\r\\n254,Fighting Spirit,Female,-,-,Red,-99.0,DC Comics,-,good,-99.0\\r\\n255,Fin Fang Foom,Male,red,Kakarantharaian,No Hair,975.0,Marvel Comics,green,good,18.0\\r\\n256,Firebird,Female,brown,-,Black,165.0,Marvel Comics,-,good,56.0\\r\\n257,Firelord,-,white,-,Yellow,193.0,Marvel Comics,-,good,99.0\\r\\n258,Firestar,Female,green,Mutant,Red,173.0,Marvel Comics,-,good,56.0\\r\\n259,Firestorm,Male,brown,-,Black,-99.0,DC Comics,-,good,-99.0\\r\\n260,Firestorm,Male,blue,Human,Auburn,188.0,DC Comics,-,good,91.0\\r\\n261,Fixer,-,red,-,No Hair,-99.0,Marvel Comics,-,bad,-99.0\\r\\n262,Flash,Male,blue,Human,Brown / White,180.0,DC Comics,-,good,81.0\\r\\n263,Flash Gordon,Male,-,-,-,-99.0,,-,good,-99.0\\r\\n264,Flash II,Male,blue,Human,Blond,183.0,DC Comics,-,good,88.0\\r\\n265,Flash III,Male,-,Human,-,183.0,DC Comics,-,good,86.0\\r\\n266,Flash IV,Male,yellow,Human,Auburn,157.0,DC Comics,-,good,52.0\\r\\n267,Forge,-,brown,-,Black,183.0,Marvel Comics,-,good,81.0\\r\\n268,Franklin Richards,Male,blue,Mutant,Blond,142.0,Marvel Comics,-,good,45.0\\r\\n269,Franklin Storm,-,blue,-,Grey,188.0,Marvel Comics,-,good,92.0\\r\\n270,Frenzy,Female,brown,-,Black,211.0,Marvel Comics,-,bad,104.0\\r\\n271,Frigga,Female,blue,-,White,180.0,Marvel Comics,-,good,167.0\\r\\n272,Galactus,Male,black,Cosmic Entity,Black,876.0,Marvel Comics,-,neutral,16.0\\r\\n273,Gambit,Male,red,Mutant,Brown,185.0,Marvel Comics,-,good,81.0\\r\\n274,Gamora,Female,yellow,Zen-Whoberian,Black,183.0,Marvel Comics,green,good,77.0\\r\\n275,Garbage Man,Male,-,Mutant,-,-99.0,DC Comics,-,good,-99.0\\r\\n276,Gary Bell,Male,-,Alpha,-,-99.0,SyFy,-,good,-99.0\\r\\n277,General Zod,Male,black,Kryptonian,Black,-99.0,DC Comics,-,bad,-99.0\\r\\n278,Genesis,Male,blue,-,Blond,185.0,Marvel Comics,-,good,86.0\\r\\n279,Ghost Rider,Male,red,Demon,No Hair,188.0,Marvel Comics,-,good,99.0\\r\\n280,Ghost Rider II,-,-,-,-,-99.0,Marvel Comics,-,good,-99.0\\r\\n281,Giant-Man,Male,-,Human,-,-99.0,Marvel Comics,-,good,-99.0\\r\\n282,Giant-Man II,Male,-,-,-,-99.0,Marvel Comics,-,good,-99.0\\r\\n283,Giganta,Female,green,-,Red,62.5,DC Comics,-,bad,630.0\\r\\n284,Gladiator,Male,blue,Strontian,Blue,198.0,Marvel Comics,purple,neutral,268.0\\r\\n285,Goblin Queen,Female,green,-,Red,168.0,Marvel Comics,-,bad,50.0\\r\\n286,Godzilla,-,-,Kaiju,-,108.0,,grey,bad,\\r\\n287,Gog,Male,-,-,-,-99.0,DC Comics,-,bad,-99.0\\r\\n288,Goku,Male,-,Saiyan,-,175.0,Shueisha,-,good,62.0\\r\\n289,Goliath,Male,-,-,-,-99.0,Marvel Comics,-,good,-99.0\\r\\n290,Goliath,Male,-,Human,-,-99.0,Marvel Comics,-,good,-99.0\\r\\n291,Goliath,Male,-,Human,-,-99.0,Marvel Comics,-,good,-99.0\\r\\n292,Goliath IV,Male,brown,-,Black,183.0,Marvel Comics,-,good,90.0\\r\\n293,Gorilla Grodd,Male,yellow,Gorilla,Black,198.0,DC Comics,-,bad,270.0\\r\\n294,Granny Goodness,Female,blue,-,White,178.0,DC Comics,-,bad,115.0\\r\\n295,Gravity,Male,blue,Human,Brown,178.0,Marvel Comics,-,good,79.0\\r\\n296,Greedo,Male,purple,Rodian,-,170.0,George Lucas,green,bad,-99.0\\r\\n297,Green Arrow,Male,green,Human,Blond,188.0,DC Comics,-,good,88.0\\r\\n298,Green Goblin,Male,blue,Human,Auburn,180.0,Marvel Comics,-,bad,83.0\\r\\n299,Green Goblin II,Male,blue,-,Auburn,178.0,Marvel Comics,-,bad,77.0\\r\\n300,Green Goblin III,Male,-,-,-,183.0,Marvel Comics,-,good,88.0\\r\\n301,Green Goblin IV,Male,green,-,Brown,178.0,Marvel Comics,-,good,79.0\\r\\n302,Groot,Male,yellow,Flora Colossus,-,701.0,Marvel Comics,-,good,4.0\\r\\n303,Guardian,Male,brown,Human,Black,-99.0,Marvel Comics,-,good,-99.0\\r\\n304,Guy Gardner,Male,blue,Human-Vuldarian,Red,188.0,DC Comics,-,good,95.0\\r\\n305,Hal Jordan,Male,brown,Human,Brown,188.0,DC Comics,-,good,90.0\\r\\n306,Han Solo,Male,brown,Human,Brown,183.0,George Lucas,-,good,79.0\\r\\n307,Hancock,Male,brown,Human,Black,188.0,Sony Pictures,-,good,-99.0\\r\\n308,Harley Quinn,Female,blue,Human,Blond,170.0,DC Comics,-,bad,63.0\\r\\n309,Harry Potter,Male,green,Human,Black,-99.0,J. K. Rowling,-,good,-99.0\\r\\n310,Havok,Male,blue,Mutant,Blond,183.0,Marvel Comics,-,good,79.0\\r\\n311,Hawk,Male,red,-,Brown,185.0,DC Comics,-,good,89.0\\r\\n312,Hawkeye,Male,blue,Human,Blond,191.0,Marvel Comics,-,good,104.0\\r\\n313,Hawkeye II,Female,blue,Human,Black,165.0,Marvel Comics,-,good,57.0\\r\\n314,Hawkgirl,Female,green,-,Red,175.0,DC Comics,-,good,61.0\\r\\n315,Hawkman,Male,blue,-,Brown,185.0,DC Comics,-,good,88.0\\r\\n316,Hawkwoman,Female,green,-,Red,175.0,DC Comics,-,good,54.0\\r\\n317,Hawkwoman II,Female,-,-,-,-99.0,DC Comics,-,good,-99.0\\r\\n318,Hawkwoman III,Female,blue,-,Red,170.0,DC Comics,-,good,65.0\\r\\n319,Heat Wave,Male,blue,Human,No Hair,180.0,DC Comics,-,bad,81.0\\r\\n320,Hela,Female,green,Asgardian,Black,213.0,Marvel Comics,-,bad,225.0\\r\\n321,Hellboy,Male,gold,Demon,Black,259.0,Dark Horse Comics,-,good,158.0\\r\\n322,Hellcat,Female,blue,Human,Red,173.0,Marvel Comics,-,good,61.0\\r\\n323,Hellstorm,Male,red,-,Red,185.0,Marvel Comics,-,good,81.0\\r\\n324,Hercules,Male,blue,Demi-God,Brown,196.0,Marvel Comics,-,good,146.0\\r\\n325,Hiro Nakamura,Male,-,-,-,-99.0,NBC - Heroes,-,good,-99.0\\r\\n326,Hit-Girl,Female,-,Human,-,-99.0,Icon Comics,-,good,-99.0\\r\\n327,Hobgoblin,Male,blue,-,Grey,180.0,Marvel Comics,-,bad,83.0\\r\\n328,Hollow,Female,blue,-,Red,170.0,Marvel Comics,-,good,-99.0\\r\\n329,Hope Summers,Female,green,-,Red,168.0,Marvel Comics,-,good,48.0\\r\\n330,Howard the Duck,Male,brown,-,Yellow,79.0,Marvel Comics,-,good,18.0\\r\\n331,Hulk,Male,green,Human / Radiation,Green,244.0,Marvel Comics,green,good,630.0\\r\\n332,Human Torch,Male,blue,Human / Radiation,Blond,178.0,Marvel Comics,-,good,77.0\\r\\n333,Huntress,Female,blue,-,Black,180.0,DC Comics,-,good,59.0\\r\\n334,Husk,Female,blue,Mutant,Blond,170.0,Marvel Comics,-,good,58.0\\r\\n335,Hybrid,Male,brown,Symbiote,Black,175.0,Marvel Comics,-,good,77.0\\r\\n336,Hydro-Man,Male,brown,-,Brown,188.0,Marvel Comics,-,bad,119.0\\r\\n337,Hyperion,Male,blue,Eternal,Red,183.0,Marvel Comics,-,good,207.0\\r\\n338,Iceman,Male,brown,Mutant,Brown,173.0,Marvel Comics,-,good,65.0\\r\\n339,Impulse,Male,yellow,Human,Auburn,170.0,DC Comics,-,good,65.0\\r\\n340,Indiana Jones,Male,-,Human,-,183.0,George Lucas,-,good,79.0\\r\\n341,Indigo,Female,-,Alien,Purple,-99.0,DC Comics,-,neutral,-99.0\\r\\n342,Ink,Male,blue,Mutant,No Hair,180.0,Marvel Comics,-,good,81.0\\r\\n343,Invisible Woman,Female,blue,Human / Radiation,Blond,168.0,Marvel Comics,-,good,54.0\\r\\n344,Iron Fist,Male,blue,Human,Blond,180.0,Marvel Comics,-,good,79.0\\r\\n345,Iron Man,Male,blue,Human,Black,198.0,Marvel Comics,-,good,191.0\\r\\n346,Iron Monger,Male,blue,-,No Hair,-99.0,Marvel Comics,-,bad,2.0\\r\\n347,Isis,Female,-,-,-,-99.0,DC Comics,-,good,-99.0\\r\\n348,Jack Bauer,Male,-,-,-,-99.0,,-,good,-99.0\\r\\n349,Jack of Hearts,Male,blue / white,Human,Brown,155.0,Marvel Comics,-,good,79.0\\r\\n350,Jack-Jack,Male,blue,Human,Brown,71.0,Dark Horse Comics,-,good,14.0\\r\\n351,James Bond,Male,blue,Human,Blond,183.0,Titan Books,-,good,-99.0\\r\\n352,James T. Kirk,Male,hazel,Human,Brown,178.0,Star Trek,-,good,77.0\\r\\n353,Jar Jar Binks,Male,yellow,Gungan,-,193.0,George Lucas,orange / white,good,-99.0\\r\\n354,Jason Bourne,Male,-,Human,-,-99.0,,-,good,-99.0\\r\\n355,Jean Grey,Female,green,Mutant,Red,168.0,Marvel Comics,-,good,52.0\\r\\n356,Jean-Luc Picard,Male,-,Human,-,-99.0,Star Trek,-,good,-99.0\\r\\n357,Jennifer Kale,Female,blue,-,Blond,168.0,Marvel Comics,-,good,55.0\\r\\n358,Jesse Quick,Female,-,Human,-,-99.0,DC Comics,-,good,-99.0\\r\\n359,Jessica Cruz,Female,green,Human,Brown,-99.0,DC Comics,-,good,-99.0\\r\\n360,Jessica Jones,Female,brown,Human,Brown,170.0,Marvel Comics,-,good,56.0\\r\\n361,Jessica Sanders,Female,-,-,-,-99.0,NBC - Heroes,-,good,-99.0\\r\\n362,Jigsaw,Male,blue,-,Black,188.0,Marvel Comics,-,bad,113.0\\r\\n363,Jim Powell,Male,-,-,-,-99.0,ABC Studios,-,good,-99.0\\r\\n364,JJ Powell,Male,-,-,-,-99.0,ABC Studios,-,good,-99.0\\r\\n365,Johann Krauss,Male,-,-,-,-99.0,Dark Horse Comics,-,good,-99.0\\r\\n366,John Constantine,Male,blue,Human,Blond,183.0,DC Comics,-,good,-99.0\\r\\n367,John Stewart,Male,green,Human,Black,185.0,DC Comics,-,good,90.0\\r\\n368,John Wraith,Male,brown,-,Black,183.0,Marvel Comics,-,good,88.0\\r\\n369,Joker,Male,green,Human,Green,196.0,DC Comics,white,bad,86.0\\r\\n370,Jolt,Female,blue,-,Black,165.0,Marvel Comics,-,good,49.0\\r\\n371,Jubilee,Female,red,Mutant,Black,165.0,Marvel Comics,-,good,52.0\\r\\n372,Judge Dredd,Male,-,Human,-,188.0,Rebellion,-,good,-99.0\\r\\n373,Juggernaut,Male,blue,Human,Red,287.0,Marvel Comics,-,neutral,855.0\\r\\n374,Junkpile,Male,-,Mutant,-,-99.0,Marvel Comics,-,bad,-99.0\\r\\n375,Justice,Male,hazel,Human,Brown,178.0,Marvel Comics,-,good,81.0\\r\\n376,Jyn Erso,Female,green,Human,Brown,-99.0,George Lucas,-,good,-99.0\\r\\n377,K-2SO,Male,white,Android,No Hair,213.0,George Lucas,gray,good,-99.0\\r\\n378,Kang,Male,brown,-,Brown,191.0,Marvel Comics,-,bad,104.0\\r\\n379,Karate Kid,Male,brown,Human,Brown,173.0,DC Comics,-,good,72.0\\r\\n380,Kathryn Janeway,Female,-,Human,-,-99.0,Star Trek,-,good,-99.0\\r\\n381,Katniss Everdeen,Female,-,Human,-,-99.0,,-,good,-99.0\\r\\n382,Kevin 11,Male,-,Human,Black,-99.0,DC Comics,-,good,-99.0\\r\\n383,Kick-Ass,Male,blue,Human,Blond,-99.0,Icon Comics,-,good,-99.0\\r\\n384,Kid Flash,Male,green,Human,Red,-99.0,DC Comics,-,good,-99.0\\r\\n385,Kid Flash II,Male,-,-,-,-99.0,DC Comics,-,good,-99.0\\r\\n386,Killer Croc,Male,red,Metahuman,No Hair,244.0,DC Comics,green,bad,356.0\\r\\n387,Killer Frost,Female,blue,Human,Blond,-99.0,DC Comics,blue,bad,-99.0\\r\\n388,Kilowog,Male,red,Bolovaxian,No Hair,234.0,DC Comics,pink,good,324.0\\r\\n389,King Kong,Male,yellow,Animal,Black,30.5,,-,good,\\r\\n390,King Shark,Male,black,Animal,No Hair,-99.0,DC Comics,-,bad,-99.0\\r\\n391,Kingpin,Male,blue,Human,No Hair,201.0,Marvel Comics,-,bad,203.0\\r\\n392,Klaw,Male,red,Human,No Hair,188.0,Marvel Comics,red,bad,97.0\\r\\n393,Kool-Aid Man,Male,black,-,No Hair,-99.0,,red,good,-99.0\\r\\n394,Kraven II,Male,brown,Human,Black,191.0,Marvel Comics,-,bad,99.0\\r\\n395,Kraven the Hunter,Male,brown,Human,Black,183.0,Marvel Comics,-,bad,106.0\\r\\n396,Krypto,Male,blue,Kryptonian,White,64.0,DC Comics,-,good,18.0\\r\\n397,Kyle Rayner,Male,green,Human,Black,180.0,DC Comics,-,good,79.0\\r\\n398,Kylo Ren,Male,-,Human,-,-99.0,George Lucas,-,bad,-99.0\\r\\n399,Lady Bullseye,Female,-,-,Black,-99.0,Marvel Comics,-,bad,-99.0\\r\\n400,Lady Deathstrike,Female,brown,Cyborg,Black,175.0,Marvel Comics,-,bad,58.0\\r\\n401,Leader,Male,green,-,No Hair,178.0,Marvel Comics,-,bad,63.0\\r\\n402,Leech,Male,-,-,-,-99.0,Marvel Comics,-,good,-99.0\\r\\n403,Legion,Male,green / blue,Mutant,Black,175.0,Marvel Comics,-,good,59.0\\r\\n404,Leonardo,Male,blue,Mutant,No Hair,-99.0,IDW Publishing,green,good,-99.0\\r\\n405,Lex Luthor,Male,green,Human,No Hair,188.0,DC Comics,-,bad,95.0\\r\\n406,Light Lass,Female,blue,-,Red,165.0,DC Comics,-,good,54.0\\r\\n407,Lightning Lad,Male,blue,-,Red,155.0,DC Comics,-,good,65.0\\r\\n408,Lightning Lord,Male,blue,-,Red,191.0,DC Comics,-,bad,95.0\\r\\n409,Living Brain,-,yellow,-,-,198.0,Marvel Comics,-,bad,360.0\\r\\n410,Living Tribunal,-,blue,Cosmic Entity,No Hair,-99.0,Marvel Comics,gold,neutral,-99.0\\r\\n411,Liz Sherman,Female,-,-,-,-99.0,Dark Horse Comics,-,good,-99.0\\r\\n412,Lizard,Male,red,Human,No Hair,203.0,Marvel Comics,-,bad,230.0\\r\\n413,Lobo,Male,red,Czarnian,Black,229.0,DC Comics,blue-white,neutral,288.0\\r\\n414,Loki,Male,green,Asgardian,Black,193.0,Marvel Comics,-,bad,236.0\\r\\n415,Longshot,Male,blue,Human,Blond,188.0,Marvel Comics,-,good,36.0\\r\\n416,Luke Cage,Male,brown,Human,Black,198.0,Marvel Comics,-,good,191.0\\r\\n417,Luke Campbell,Male,-,-,-,-99.0,NBC - Heroes,-,bad,-99.0\\r\\n418,Luke Skywalker,Male,blue,Human,Blond,168.0,George Lucas,-,good,77.0\\r\\n419,Luna,Female,-,Human,-,-99.0,Marvel Comics,-,good,-99.0\\r\\n420,Lyja,Female,green,-,Green,-99.0,Marvel Comics,-,good,-99.0\\r\\n421,Mach-IV,Male,brown,-,Brown,180.0,Marvel Comics,-,bad,79.0\\r\\n422,Machine Man,-,red,-,Black,183.0,Marvel Comics,-,good,383.0\\r\\n423,Magneto,Male,grey,Mutant,White,188.0,Marvel Comics,-,bad,86.0\\r\\n424,Magog,Male,blue,-,Blond,-99.0,DC Comics,-,good,-99.0\\r\\n425,Magus,Male,black,-,-,183.0,Marvel Comics,-,bad,-99.0\\r\\n426,Man of Miracles,-,blue,God / Eternal,Silver,-99.0,Image Comics,-,-,-99.0\\r\\n427,Man-Bat,Male,brown,Human,Brown,-99.0,DC Comics,-,neutral,-99.0\\r\\n428,Man-Thing,Male,red,-,No Hair,213.0,Marvel Comics,green,good,225.0\\r\\n429,Man-Wolf,Male,brown,-,Auburn,188.0,Marvel Comics,-,good,90.0\\r\\n430,Mandarin,Male,blue,Human,White,188.0,Marvel Comics,-,bad,97.0\\r\\n431,Mantis,Female,green,Human-Kree,Black,168.0,Marvel Comics,green,good,52.0\\r\\n432,Martian Manhunter,Male,red,Martian,No Hair,201.0,DC Comics,green,good,135.0\\r\\n433,Marvel Girl,Female,green,-,Red,170.0,Marvel Comics,-,good,56.0\\r\\n434,Master Brood,Male,blue,-,Black,183.0,Team Epic TV,-,good,81.0\\r\\n435,Master Chief,Male,brown,Human / Altered,Brown,213.0,Microsoft,-,good,-99.0\\r\\n436,Match,Male,black,-,Black,-99.0,DC Comics,-,bad,-99.0\\r\\n437,Matt Parkman,Male,-,-,-,-99.0,NBC - Heroes,-,good,-99.0\\r\\n438,Maverick,Male,blue,-,Black,193.0,Marvel Comics,-,good,110.0\\r\\n439,Maxima,Female,brown,-,Red,180.0,DC Comics,-,bad,72.0\\r\\n440,Maya Herrera,Female,-,-,-,-99.0,NBC - Heroes,-,good,-99.0\\r\\n441,Medusa,Female,green,Inhuman,Red,180.0,Marvel Comics,-,good,59.0\\r\\n442,Meltdown,Female,blue,-,Blond,165.0,Marvel Comics,-,good,54.0\\r\\n443,Mephisto,Male,white,-,Black,198.0,Marvel Comics,-,bad,140.0\\r\\n444,Mera,Female,blue,Atlantean,Red,175.0,DC Comics,-,good,72.0\\r\\n445,Metallo,Male,green,Android,Brown,196.0,DC Comics,-,bad,90.0\\r\\n446,Metamorpho,Male,black,-,No Hair,185.0,DC Comics,-,good,90.0\\r\\n447,Meteorite,Female,-,-,-,-99.0,Marvel Comics,-,good,-99.0\\r\\n448,Metron,Male,blue,-,Black,185.0,DC Comics,-,good,86.0\\r\\n449,Micah Sanders,Male,brown,-,Black,-99.0,NBC - Heroes,-,good,-99.0\\r\\n450,Michelangelo,Male,blue,Mutant,-,-99.0,IDW Publishing,green,good,-99.0\\r\\n451,Micro Lad,Male,grey,-,Brown,183.0,DC Comics,-,good,77.0\\r\\n452,Mimic,Male,brown,-,Brown,188.0,Marvel Comics,-,good,101.0\\r\\n453,Minna Murray,Female,-,-,-,-99.0,Wildstorm,-,good,-99.0\\r\\n454,Misfit,Female,blue,-,Red,-99.0,DC Comics,-,good,-99.0\\r\\n455,Miss Martian,Female,red,-,Red,178.0,DC Comics,-,good,61.0\\r\\n456,Mister Fantastic,Male,brown,Human / Radiation,Brown,185.0,Marvel Comics,-,good,81.0\\r\\n457,Mister Freeze,Male,-,Human,-,183.0,DC Comics,-,bad,86.0\\r\\n458,Mister Knife,Male,blue,Spartoi,Brown,-99.0,Marvel Comics,-,bad,-99.0\\r\\n459,Mister Mxyzptlk,Male,-,God / Eternal,-,-99.0,DC Comics,-,bad,-99.0\\r\\n460,Mister Sinister,Male,red,Human / Altered,Black,196.0,Marvel Comics,-,bad,128.0\\r\\n461,Mister Zsasz,Male,blue,Human,Blond,-99.0,DC Comics,-,bad,-99.0\\r\\n462,Mockingbird,Female,blue,Human,Blond,175.0,Marvel Comics,-,good,61.0\\r\\n463,MODOK,Male,white,Cyborg,Brownn,366.0,Marvel Comics,-,bad,338.0\\r\\n464,Mogo,Male,-,Planet,-,-99.0,DC Comics,-,good,-99.0\\r\\n465,Mohinder Suresh,Male,-,-,-,-99.0,NBC - Heroes,-,good,-99.0\\r\\n466,Moloch,Male,-,-,-,-99.0,DC Comics,-,bad,-99.0\\r\\n467,Molten Man,Male,gold,-,Gold,196.0,Marvel Comics,-,bad,248.0\\r\\n468,Monarch,Male,blue,-,White,193.0,DC Comics,-,good,90.0\\r\\n469,Monica Dawson,Female,-,-,-,-99.0,NBC - Heroes,-,good,-99.0\\r\\n470,Moon Knight,Male,brown,Human,Brown,188.0,Marvel Comics,-,good,101.0\\r\\n471,Moonstone,Female,blue,-,Blond,180.0,Marvel Comics,-,bad,59.0\\r\\n472,Morlun,Male,white / red,-,Black,188.0,Marvel Comics,-,bad,79.0\\r\\n473,Morph,Male,white,-,No Hair,178.0,Marvel Comics,-,good,79.0\\r\\n474,Moses Magnum,Male,brown,-,Black,175.0,Marvel Comics,-,bad,72.0\\r\\n475,Mr Immortal,Male,blue,Mutant,Blond,188.0,Marvel Comics,-,good,70.0\\r\\n476,Mr Incredible,Male,blue,Human,Blond,201.0,Dark Horse Comics,-,good,158.0\\r\\n477,Ms Marvel II,Female,blue,-,Red,173.0,Marvel Comics,-,good,61.0\\r\\n478,Multiple Man,Male,blue,-,Brown,180.0,Marvel Comics,-,good,70.0\\r\\n479,Mysterio,Male,brown,Human,No Hair,180.0,Marvel Comics,-,bad,79.0\\r\\n480,Mystique,Female,yellow (without irises),Mutant,Red / Orange,178.0,Marvel Comics,blue,bad,54.0\\r\\n481,Namor,Male,-,-,-,-99.0,Marvel Comics,-,good,-99.0\\r\\n482,Namor,Male,grey,Atlantean,Black,188.0,Marvel Comics,-,good,125.0\\r\\n483,Namora,Female,blue,-,Blond,180.0,Marvel Comics,-,good,85.0\\r\\n484,Namorita,Female,blue,-,Blond,168.0,Marvel Comics,-,good,101.0\\r\\n485,Naruto Uzumaki,Male,-,Human,-,168.0,Shueisha,-,good,54.0\\r\\n486,Nathan Petrelli,Male,brown,-,-,-99.0,NBC - Heroes,-,good,-99.0\\r\\n487,Nebula,Female,blue,Luphomoid,No Hair,185.0,Marvel Comics,blue,bad,83.0\\r\\n488,Negasonic Teenage Warhead,Female,black,Mutant,Black,-99.0,Marvel Comics,-,good,-99.0\\r\\n489,Nick Fury,Male,brown,Human,Brown / White,185.0,Marvel Comics,-,good,99.0\\r\\n490,Nightcrawler,Male,yellow,-,Indigo,175.0,Marvel Comics,-,good,88.0\\r\\n491,Nightwing,Male,blue,Human,Black,178.0,DC Comics,-,good,79.0\\r\\n492,Niki Sanders,Female,blue,-,Blond,-99.0,NBC - Heroes,-,good,-99.0\\r\\n493,Nina Theroux,Female,-,Alpha,-,-99.0,SyFy,-,good,-99.0\\r\\n494,Nite Owl II,Male,-,-,-,-99.0,DC Comics,-,good,-99.0\\r\\n495,Northstar,Male,blue,-,Black,180.0,Marvel Comics,-,good,83.0\\r\\n496,Nova,Male,brown,Human,Brown,185.0,Marvel Comics,-,good,86.0\\r\\n497,Nova,Female,white,Human / Cosmic,Red,163.0,Marvel Comics,gold,good,59.0\\r\\n498,Odin,Male,blue,God / Eternal,White,206.0,Marvel Comics,-,good,293.0\\r\\n499,Offspring,Male,-,-,-,-99.0,DC Comics,-,good,-99.0\\r\\n500,Omega Red,Male,red,-,Blond,211.0,Marvel Comics,-,bad,191.0\\r\\n501,Omniscient,Male,brown,-,Black,180.0,Team Epic TV,-,good,65.0\\r\\n502,One Punch Man,Male,-,Human,No Hair,175.0,Shueisha,-,good,69.0\\r\\n503,One-Above-All,-,-,Cosmic Entity,-,-99.0,Marvel Comics,-,neutral,-99.0\\r\\n504,Onslaught,Male,red,Mutant,No Hair,305.0,Marvel Comics,-,bad,405.0\\r\\n505,Oracle,Female,blue,Human,Red,178.0,DC Comics,-,good,59.0\\r\\n506,Osiris,Male,brown,-,Brown,-99.0,DC Comics,-,good,-99.0\\r\\n507,Overtkill,Male,-,-,-,-99.0,Image Comics,-,bad,-99.0\\r\\n508,Ozymandias,Male,blue,Human,Blond,-99.0,DC Comics,-,bad,-99.0\\r\\n509,Parademon,-,-,Parademon,-,-99.0,DC Comics,-,bad,-99.0\\r\\n510,Paul Blart,Male,-,Human,-,170.0,Sony Pictures,-,good,117.0\\r\\n511,Penance,-,-,-,-,-99.0,Marvel Comics,-,good,-99.0\\r\\n512,Penance I,Female,-,-,-,-99.0,Marvel Comics,-,good,-99.0\\r\\n513,Penance II,Male,blue,-,Blond,183.0,Marvel Comics,-,good,89.0\\r\\n514,Penguin,Male,blue,Human,Black,157.0,DC Comics,-,bad,79.0\\r\\n515,Peter Petrelli,Male,-,-,-,-99.0,NBC - Heroes,-,good,-99.0\\r\\n516,Phantom,Male,-,-,-,-99.0,DC Comics,-,good,-99.0\\r\\n517,Phantom Girl,Female,blue,-,Black,168.0,DC Comics,-,good,54.0\\r\\n518,Phoenix,Female,green,Mutant,Red,168.0,Marvel Comics,-,good,52.0\\r\\n519,Plantman,Male,green,Mutant,Grey,183.0,Marvel Comics,-,bad,87.0\\r\\n520,Plastic Lad,Male,-,-,-,-99.0,DC Comics,-,good,-99.0\\r\\n521,Plastic Man,Male,blue,Human,Black,185.0,DC Comics,-,good,80.0\\r\\n522,Plastique,Female,blue,-,Red,168.0,DC Comics,-,bad,55.0\\r\\n523,Poison Ivy,Female,green,Human,Red,168.0,DC Comics,green,bad,50.0\\r\\n524,Polaris,Female,green,Mutant,Green,170.0,Marvel Comics,-,good,52.0\\r\\n525,Power Girl,Female,blue,Kryptonian,blond,180.0,DC Comics,-,good,81.0\\r\\n526,Power Man,Male,-,Mutant,-,-99.0,Marvel Comics,-,good,-99.0\\r\\n527,Predator,Male,-,Yautja,-,213.0,Dark Horse Comics,-,bad,234.0\\r\\n528,Professor X,Male,blue,Mutant,No Hair,183.0,Marvel Comics,-,good,86.0\\r\\n529,Professor Zoom,Male,blue,Human,Strawberry Blond,180.0,DC Comics,-,bad,81.0\\r\\n530,Proto-Goblin,Male,green,-,Blond,-99.0,Marvel Comics,-,bad,-99.0\\r\\n531,Psylocke,Female,blue,Mutant,Purple,180.0,Marvel Comics,-,good,70.0\\r\\n532,Punisher,Male,blue,Human,Black,183.0,Marvel Comics,-,good,90.0\\r\\n533,Purple Man,Male,purple,Human,Purple,180.0,Marvel Comics,purple,bad,74.0\\r\\n534,Pyro,Male,blue,-,Blond,178.0,Marvel Comics,-,bad,68.0\\r\\n535,Q,Male,-,God / Eternal,-,-99.0,Star Trek,-,-,-99.0\\r\\n536,Quantum,Male,-,-,-,-99.0,HarperCollins,-,good,-99.0\\r\\n537,Question,Male,blue,Human,Blond,188.0,DC Comics,-,good,83.0\\r\\n538,Quicksilver,Male,blue,Mutant,Silver,183.0,Marvel Comics,-,good,79.0\\r\\n539,Quill,Male,brown,-,Brown,163.0,Marvel Comics,-,good,56.0\\r\\n540,Ra's Al Ghul,Male,green,Human,Grey,193.0,DC Comics,-,bad,97.0\\r\\n541,Rachel Pirzad,Female,-,Alpha,-,-99.0,SyFy,-,good,-99.0\\r\\n542,Rambo,Male,brown,Human,Black,178.0,,-,good,83.0\\r\\n543,Raphael,Male,-,Mutant,No Hair,-99.0,IDW Publishing,green,good,-99.0\\r\\n544,Raven,Female,indigo,Human,Black,165.0,DC Comics,-,neutral,50.0\\r\\n545,Ray,Male,green,Human,Red,178.0,DC Comics,-,good,70.0\\r\\n546,Razor-Fist II,Male,blue,-,No Hair,191.0,Marvel Comics,-,bad,117.0\\r\\n547,Red Arrow,Male,green,Human,Red,180.0,DC Comics,-,good,83.0\\r\\n548,Red Hood,Male,blue,Human,Black,183.0,DC Comics,-,neutral,81.0\\r\\n549,Red Hulk,Male,yellow,Human / Radiation,Black,213.0,Marvel Comics,red,neutral,630.0\\r\\n550,Red Mist,Male,-,-,-,-99.0,Icon Comics,-,bad,-99.0\\r\\n551,Red Robin,Male,blue,Human,Black,165.0,DC Comics,-,good,56.0\\r\\n552,Red Skull,Male,blue,-,No Hair,188.0,Marvel Comics,-,bad,108.0\\r\\n553,Red Tornado,Male,green,Android,No Hair,185.0,DC Comics,-,good,146.0\\r\\n554,Redeemer II,Male,-,-,-,-99.0,Image Comics,-,bad,-99.0\\r\\n555,Redeemer III,Male,-,-,-,-99.0,Image Comics,-,bad,-99.0\\r\\n556,Renata Soliz,Female,-,-,-,-99.0,HarperCollins,-,good,-99.0\\r\\n557,Rey,Female,hazel,Human,Brown,297.0,George Lucas,-,good,-99.0\\r\\n558,Rhino,Male,brown,Human / Radiation,Brown,196.0,Marvel Comics,-,bad,320.0\\r\\n559,Rick Flag,Male,blue,-,Brown,185.0,DC Comics,-,bad,85.0\\r\\n560,Riddler,Male,-,-,-,-99.0,DC Comics,-,bad,-99.0\\r\\n561,Rip Hunter,Male,blue,Human,Blond,-99.0,DC Comics,-,good,-99.0\\r\\n562,Ripcord,Female,green,-,Black,180.0,Marvel Comics,-,good,72.0\\r\\n563,Robin,Male,blue,Human,Black,178.0,DC Comics,-,good,79.0\\r\\n564,Robin II,Male,blue,Human,Red,183.0,DC Comics,-,good,101.0\\r\\n565,Robin III,Male,blue,Human,Black,165.0,DC Comics,-,good,56.0\\r\\n566,Robin V,Male,blue,Human,Black,137.0,DC Comics,-,good,38.0\\r\\n567,Robin VI,Female,green,Human,Red,-99.0,DC Comics,-,neutral,-99.0\\r\\n568,Rocket Raccoon,Male,brown,Animal,Brown,122.0,Marvel Comics,-,good,25.0\\r\\n569,Rogue,Female,green,-,Brown / White,173.0,Marvel Comics,-,good,54.0\\r\\n570,Ronin,Male,blue,Human,Blond,191.0,Marvel Comics,-,good,104.0\\r\\n571,Rorschach,Male,blue,Human,Red,168.0,DC Comics,-,good,63.0\\r\\n572,Sabretooth,Male,amber,Mutant,Blond,198.0,Marvel Comics,-,bad,171.0\\r\\n573,Sage,Female,blue,-,Black,170.0,Marvel Comics,-,good,61.0\\r\\n574,Sandman,Male,brown,Human,Brown,185.0,Marvel Comics,-,neutral,203.0\\r\\n575,Sasquatch,Male,red,-,Orange,305.0,Marvel Comics,-,good,900.0\\r\\n576,Sauron,Male,-,Maiar,-,279.0,J. R. R. Tolkien,-,bad,-99.0\\r\\n577,Savage Dragon,Male,-,-,-,-99.0,Image Comics,-,good,-99.0\\r\\n578,Scarecrow,Male,blue,Human,Brown,183.0,DC Comics,-,bad,63.0\\r\\n579,Scarlet Spider,Male,blue,Human,Blond,178.0,Marvel Comics,-,good,74.0\\r\\n580,Scarlet Spider II,Male,brown,Clone,Brown,193.0,Marvel Comics,-,good,113.0\\r\\n581,Scarlet Witch,Female,blue,Mutant,Brown,170.0,Marvel Comics,-,bad,59.0\\r\\n582,Scorpia,Female,green,-,Red,-99.0,Marvel Comics,-,bad,-99.0\\r\\n583,Scorpion,Male,brown,Human,Brown,211.0,Marvel Comics,-,bad,310.0\\r\\n584,Sebastian Shaw,Male,-,Mutant,-,-99.0,Marvel Comics,-,bad,-99.0\\r\\n585,Sentry,Male,blue,Mutant,Blond,188.0,Marvel Comics,-,neutral,87.0\\r\\n586,Shadow King,-,red,-,-,185.0,Marvel Comics,-,good,149.0\\r\\n587,Shadow Lass,Female,black,Talokite,Black,173.0,DC Comics,blue,good,54.0\\r\\n588,Shadowcat,Female,hazel,Mutant,Brown,168.0,Marvel Comics,-,good,50.0\\r\\n589,Shang-Chi,Male,brown,Human,Black,178.0,Marvel Comics,-,good,79.0\\r\\n590,Shatterstar,Male,brown,-,Red,191.0,Marvel Comics,-,good,88.0\\r\\n591,She-Hulk,Female,green,Human,Green,201.0,Marvel Comics,-,good,315.0\\r\\n592,She-Thing,Female,blue,Human / Radiation,No Hair,183.0,Marvel Comics,-,good,153.0\\r\\n593,Shocker,Male,brown,Human,Brown,175.0,Marvel Comics,-,bad,79.0\\r\\n594,Shriek,Female,yellow / blue,-,Black,173.0,Marvel Comics,-,good,52.0\\r\\n595,Shrinking Violet,Female,-,-,-,-99.0,DC Comics,-,good,-99.0\\r\\n596,Sif,Female,blue,Asgardian,Black,188.0,Marvel Comics,-,good,191.0\\r\\n597,Silk,Female,brown,Human,Black,-99.0,Marvel Comics,-,good,-99.0\\r\\n598,Silk Spectre,Female,-,-,-,-99.0,DC Comics,-,good,-99.0\\r\\n599,Silk Spectre II,Female,-,-,-,-99.0,DC Comics,-,good,-99.0\\r\\n600,Silver Surfer,Male,white,Alien,No Hair,193.0,Marvel Comics,silver,good,101.0\\r\\n601,Silverclaw,Female,brown,-,Black,157.0,Marvel Comics,-,good,50.0\\r\\n602,Simon Baz,Male,bown,Human,Black,-99.0,DC Comics,-,good,-99.0\\r\\n603,Sinestro,Male,black,Korugaran,Black,201.0,DC Comics,red,neutral,92.0\\r\\n604,Siren,Female,blue,Atlantean,Purple,175.0,DC Comics,-,bad,72.0\\r\\n605,Siren II,Female,black,-,-,-99.0,DC Comics,-,bad,-99.0\\r\\n606,Siryn,Female,blue,-,Strawberry Blond,168.0,Marvel Comics,-,bad,52.0\\r\\n607,Skaar,Male,green,-,Black,198.0,Marvel Comics,-,good,180.0\\r\\n608,Snake-Eyes,Male,-,Animal,-,-99.0,Marvel Comics,-,bad,-99.0\\r\\n609,Snowbird,Female,white,-,Blond,178.0,Marvel Comics,-,good,49.0\\r\\n610,Sobek,Male,white,-,No Hair,-99.0,DC Comics,-,good,-99.0\\r\\n611,Solomon Grundy,Male,black,Zombie,White,279.0,DC Comics,-,bad,437.0\\r\\n612,Songbird,Female,green,-,Red / White,165.0,Marvel Comics,-,good,65.0\\r\\n613,Space Ghost,Male,-,Human,-,188.0,DC Comics,-,good,113.0\\r\\n614,Spawn,Male,brown,Demon,Black,211.0,Image Comics,-,good,405.0\\r\\n615,Spectre,Male,white,God / Eternal,No Hair,-99.0,DC Comics,white,good,-99.0\\r\\n616,Speedball,Male,-,-,-,-99.0,Marvel Comics,-,good,-99.0\\r\\n617,Speedy,Male,-,Human,-,-99.0,DC Comics,-,good,-99.0\\r\\n618,Speedy,Female,green,Human,Brown,-99.0,DC Comics,-,good,-99.0\\r\\n619,Spider-Carnage,Male,-,Symbiote,-,-99.0,Marvel Comics,-,bad,-99.0\\r\\n620,Spider-Girl,Female,blue,Human,Brown,170.0,Marvel Comics,-,good,54.0\\r\\n621,Spider-Gwen,Female,blue,Human,Blond,165.0,Marvel Comics,-,good,56.0\\r\\n622,Spider-Man,Male,hazel,Human,Brown,178.0,Marvel Comics,-,good,74.0\\r\\n623,Spider-Man,-,red,Human,Brown,178.0,Marvel Comics,-,good,77.0\\r\\n624,Spider-Man,Male,brown,Human,Black,157.0,Marvel Comics,-,good,56.0\\r\\n625,Spider-Woman,Female,green,Human,Black,178.0,Marvel Comics,-,good,59.0\\r\\n626,Spider-Woman II,Female,-,-,-,-99.0,Marvel Comics,-,good,-99.0\\r\\n627,Spider-Woman III,Female,brown,-,Brown,173.0,Marvel Comics,-,good,55.0\\r\\n628,Spider-Woman IV,Female,red,-,White,178.0,Marvel Comics,-,bad,58.0\\r\\n629,Spock,Male,brown,Human-Vulcan,Black,185.0,Star Trek,-,good,81.0\\r\\n630,Spyke,Male,brown,Mutant,Blond,183.0,Marvel Comics,-,good,83.0\\r\\n631,Stacy X,Female,-,-,-,-99.0,Marvel Comics,-,good,-99.0\\r\\n632,Star-Lord,Male,blue,Human-Spartoi,Blond,188.0,Marvel Comics,-,good,79.0\\r\\n633,Stardust,Male,-,-,-,-99.0,Marvel Comics,-,good,-99.0\\r\\n634,Starfire,Female,green,Tamaranean,Auburn,193.0,DC Comics,orange,good,71.0\\r\\n635,Stargirl,Female,blue,Human,Blond,165.0,DC Comics,-,good,62.0\\r\\n636,Static,Male,brown,Mutant,Black,170.0,DC Comics,-,good,63.0\\r\\n637,Steel,Male,brown,-,No Hair,201.0,DC Comics,-,good,131.0\\r\\n638,Stephanie Powell,Female,-,-,Blond,-99.0,ABC Studios,-,good,-99.0\\r\\n639,Steppenwolf,Male,red,New God,Black,183.0,DC Comics,white,bad,91.0\\r\\n640,Storm,Female,blue,Mutant,White,180.0,Marvel Comics,-,good,57.0\\r\\n641,Stormtrooper,Male,-,Human,-,183.0,George Lucas,-,bad,-99.0\\r\\n642,Sunspot,Male,brown,Mutant,black,173.0,Marvel Comics,-,good,77.0\\r\\n643,Superboy,Male,blue,-,Black,170.0,DC Comics,-,good,68.0\\r\\n644,Superboy-Prime,Male,blue,Kryptonian,Black / Blue,180.0,DC Comics,-,bad,77.0\\r\\n645,Supergirl,Female,blue,Kryptonian,Blond,165.0,DC Comics,-,good,54.0\\r\\n646,Superman,Male,blue,Kryptonian,Black,191.0,DC Comics,-,good,101.0\\r\\n647,Swamp Thing,Male,red,God / Eternal,No Hair,-99.0,DC Comics,green,bad,-99.0\\r\\n648,Swarm,Male,yellow,Mutant,No Hair,196.0,Marvel Comics,yellow,bad,47.0\\r\\n649,Sylar,Male,-,-,-,-99.0,NBC - Heroes,-,bad,-99.0\\r\\n650,Synch,Male,brown,-,Black,180.0,Marvel Comics,-,good,74.0\\r\\n651,T-1000,Male,-,Android,-,183.0,Dark Horse Comics,silver,bad,146.0\\r\\n652,T-800,Male,red,Cyborg,-,-99.0,Dark Horse Comics,-,bad,176.0\\r\\n653,T-850,Male,red,Cyborg,-,-99.0,Dark Horse Comics,-,bad,198.0\\r\\n654,T-X,Female,-,Cyborg,-,-99.0,Dark Horse Comics,silver,bad,149.0\\r\\n655,Taskmaster,Male,brown,Human,Brown,188.0,Marvel Comics,-,bad,99.0\\r\\n656,Tempest,Female,brown,-,Black,163.0,Marvel Comics,-,good,54.0\\r\\n657,Thanos,Male,red,Eternal,No Hair,201.0,Marvel Comics,purple,bad,443.0\\r\\n658,The Cape,Male,-,-,-,-99.0,,-,good,-99.0\\r\\n659,The Comedian,Male,brown,Human,Black,188.0,DC Comics,-,neutral,101.0\\r\\n660,Thing,Male,blue,Human / Radiation,No Hair,183.0,Marvel Comics,-,good,225.0\\r\\n661,Thor,Male,blue,Asgardian,Blond,198.0,Marvel Comics,-,good,288.0\\r\\n662,Thor Girl,Female,blue,Asgardian,Blond,175.0,Marvel Comics,-,good,143.0\\r\\n663,Thunderbird,Male,brown,-,Black,185.0,Marvel Comics,-,good,101.0\\r\\n664,Thunderbird II,Male,-,-,-,-99.0,Marvel Comics,-,good,-99.0\\r\\n665,Thunderbird III,Male,brown,-,Black,175.0,Marvel Comics,-,good,74.0\\r\\n666,Thunderstrike,Male,blue,-,Blond,198.0,Marvel Comics,-,good,288.0\\r\\n667,Thundra,Female,green,-,Red,218.0,Marvel Comics,-,good,158.0\\r\\n668,Tiger Shark,Male,grey,Human,No Hair,185.0,Marvel Comics,grey,bad,203.0\\r\\n669,Tigra,Female,green,-,Auburn,178.0,Marvel Comics,-,good,81.0\\r\\n670,Tinkerer,Male,brown,-,White,163.0,Marvel Comics,-,bad,54.0\\r\\n671,Titan,Male,-,-,-,-99.0,HarperCollins,-,good,-99.0\\r\\n672,Toad,Male,black,Mutant,Brown,175.0,Marvel Comics,green,neutral,76.0\\r\\n673,Toxin,Male,blue,Symbiote,Brown,188.0,Marvel Comics,-,good,97.0\\r\\n674,Toxin,Male,black,Symbiote,Blond,191.0,Marvel Comics,-,good,117.0\\r\\n675,Tracy Strauss,Female,-,-,-,-99.0,NBC - Heroes,-,good,-99.0\\r\\n676,Trickster,Male,blue,Human,Blond,183.0,DC Comics,-,-,81.0\\r\\n677,Trigon,Male,yellow,God / Eternal,Black,-99.0,DC Comics,red,bad,-99.0\\r\\n678,Triplicate Girl,Female,purple,-,Brown,168.0,DC Comics,-,good,59.0\\r\\n679,Triton,Male,green,Inhuman,No Hair,188.0,Marvel Comics,green,good,86.0\\r\\n680,Two-Face,Male,-,-,-,183.0,DC Comics,-,bad,82.0\\r\\n681,Ultragirl,Female,blue,-,Blond,168.0,Marvel Comics,-,good,105.0\\r\\n682,Ultron,Male,red,Android,-,206.0,Marvel Comics,silver,bad,331.0\\r\\n683,Utgard-Loki,Male,blue,Frost Giant,White,15.2,Marvel Comics,-,bad,58.0\\r\\n684,Vagabond,Female,blue,-,Strawberry Blond,168.0,Marvel Comics,-,good,54.0\\r\\n685,Valerie Hart,Female,hazel,-,Black,175.0,Team Epic TV,-,good,56.0\\r\\n686,Valkyrie,Female,blue,-,Blond,191.0,Marvel Comics,-,good,214.0\\r\\n687,Vanisher,Male,green,-,No Hair,165.0,Marvel Comics,-,bad,79.0\\r\\n688,Vegeta,Male,-,Saiyan,Black,168.0,Shueisha,-,bad,73.0\\r\\n689,Venom,Male,blue,Symbiote,Strawberry Blond,191.0,Marvel Comics,-,bad,117.0\\r\\n690,Venom II,Male,brown,-,Black,175.0,Marvel Comics,-,bad,50.0\\r\\n691,Venom III,Male,brown,Symbiote,Brown,229.0,Marvel Comics,-,bad,334.0\\r\\n692,Venompool,Male,-,Symbiote,-,226.0,Marvel Comics,-,-,-99.0\\r\\n693,Vertigo II,Female,blue,-,Silver,168.0,Marvel Comics,-,good,52.0\\r\\n694,Vibe,Male,brown,Human,Black,178.0,DC Comics,-,good,71.0\\r\\n695,Vindicator,Female,green,Human,Red,165.0,Marvel Comics,-,good,54.0\\r\\n696,Vindicator,Male,-,-,-,-99.0,Marvel Comics,-,good,-99.0\\r\\n697,Violator,Male,-,-,-,-99.0,Image Comics,-,bad,-99.0\\r\\n698,Violet Parr,Female,violet,Human,Black,137.0,Dark Horse Comics,-,good,41.0\\r\\n699,Vision,Male,gold,Android,No Hair,191.0,Marvel Comics,red,good,135.0\\r\\n700,Vision II,-,red,-,No Hair,191.0,Marvel Comics,-,good,135.0\\r\\n701,Vixen,Female,amber,Human,Black,175.0,DC Comics,-,good,63.0\\r\\n702,Vulcan,Male,black,-,Black,-99.0,Marvel Comics,-,good,-99.0\\r\\n703,Vulture,Male,brown,Human,No Hair,180.0,Marvel Comics,-,bad,79.0\\r\\n704,Walrus,Male,blue,Human,Black,183.0,Marvel Comics,-,bad,162.0\\r\\n705,War Machine,Male,brown,Human,Brown,185.0,Marvel Comics,-,good,95.0\\r\\n706,Warbird,Female,blue,-,Blond,180.0,Marvel Comics,-,good,54.0\\r\\n707,Warlock,Male,red,-,Blond,188.0,Marvel Comics,-,good,108.0\\r\\n708,Warp,Male,brown,-,Black,173.0,DC Comics,-,bad,67.0\\r\\n709,Warpath,Male,brown,Mutant,Black,218.0,Marvel Comics,-,good,158.0\\r\\n710,Wasp,Female,blue,Human,Auburn,163.0,Marvel Comics,-,good,50.0\\r\\n711,Watcher,Male,-,-,-,-99.0,Marvel Comics,-,good,-99.0\\r\\n712,Weapon XI,Male,-,-,-,-99.0,Marvel Comics,-,bad,-99.0\\r\\n713,White Canary,Female,brown,Human,Black,-99.0,DC Comics,-,bad,-99.0\\r\\n714,White Queen,Female,blue,-,Blond,178.0,Marvel Comics,-,good,65.0\\r\\n715,Wildfire,Male,-,-,-,-99.0,DC Comics,-,good,-99.0\\r\\n716,Winter Soldier,Male,brown,Human,Brown,175.0,Marvel Comics,-,good,117.0\\r\\n717,Wiz Kid,-,brown,-,Black,140.0,Marvel Comics,-,good,39.0\\r\\n718,Wolfsbane,Female,green,-,Auburn,366.0,Marvel Comics,-,good,473.0\\r\\n719,Wolverine,Male,blue,Mutant,Black,160.0,Marvel Comics,-,good,135.0\\r\\n720,Wonder Girl,Female,blue,Demi-God,Blond,165.0,DC Comics,-,good,51.0\\r\\n721,Wonder Man,Male,red,-,Black,188.0,Marvel Comics,-,good,171.0\\r\\n722,Wonder Woman,Female,blue,Amazon,Black,183.0,DC Comics,-,good,74.0\\r\\n723,Wondra,Female,-,-,-,-99.0,Marvel Comics,-,good,-99.0\\r\\n724,Wyatt Wingfoot,Male,brown,-,Black,196.0,Marvel Comics,-,good,117.0\\r\\n725,X-23,Female,green,Mutant / Clone,Black,155.0,Marvel Comics,-,good,50.0\\r\\n726,X-Man,Male,blue,-,Brown,175.0,Marvel Comics,-,good,61.0\\r\\n727,Yellow Claw,Male,blue,-,No Hair,188.0,Marvel Comics,-,bad,95.0\\r\\n728,Yellowjacket,Male,blue,Human,Blond,183.0,Marvel Comics,-,good,83.0\\r\\n729,Yellowjacket II,Female,blue,Human,Strawberry Blond,165.0,Marvel Comics,-,good,52.0\\r\\n730,Ymir,Male,white,Frost Giant,No Hair,304.8,Marvel Comics,white,good,-99.0\\r\\n731,Yoda,Male,brown,Yoda's species,White,66.0,George Lucas,green,good,17.0\\r\\n732,Zatanna,Female,blue,Human,Black,170.0,DC Comics,-,good,57.0\\r\\n733,Zoom,Male,red,-,Brown,185.0,DC Comics,-,bad,81.0\\r\\n\"}"
            ]
          },
          "metadata": {},
          "execution_count": 6
        }
      ]
    },
    {
      "cell_type": "code",
      "source": [
        "df1 = spark.read.csv(\"heroes_information.csv\", header = True)"
      ],
      "metadata": {
        "id": "pNRU1W8T_iw0"
      },
      "execution_count": 7,
      "outputs": []
    },
    {
      "cell_type": "code",
      "source": [
        "df1.show(10)"
      ],
      "metadata": {
        "colab": {
          "base_uri": "https://localhost:8080/"
        },
        "id": "jsiSr--f_nse",
        "outputId": "815e7a29-8245-47f8-b147-d3a26eaaa74e"
      },
      "execution_count": 8,
      "outputs": [
        {
          "output_type": "stream",
          "name": "stdout",
          "text": [
            "+---+-------------+------+---------+-----------------+----------+------+-----------------+----------+---------+------+\n",
            "|_c0|         name|Gender|Eye color|             Race|Hair color|Height|        Publisher|Skin color|Alignment|Weight|\n",
            "+---+-------------+------+---------+-----------------+----------+------+-----------------+----------+---------+------+\n",
            "|  0|       A-Bomb|  Male|   yellow|            Human|   No Hair| 203.0|    Marvel Comics|         -|     good| 441.0|\n",
            "|  1|   Abe Sapien|  Male|     blue|    Icthyo Sapien|   No Hair| 191.0|Dark Horse Comics|      blue|     good|  65.0|\n",
            "|  2|     Abin Sur|  Male|     blue|          Ungaran|   No Hair| 185.0|        DC Comics|       red|     good|  90.0|\n",
            "|  3|  Abomination|  Male|    green|Human / Radiation|   No Hair| 203.0|    Marvel Comics|         -|      bad| 441.0|\n",
            "|  4|      Abraxas|  Male|     blue|    Cosmic Entity|     Black| -99.0|    Marvel Comics|         -|      bad| -99.0|\n",
            "|  5|Absorbing Man|  Male|     blue|            Human|   No Hair| 193.0|    Marvel Comics|         -|      bad| 122.0|\n",
            "|  6|  Adam Monroe|  Male|     blue|                -|     Blond| -99.0|     NBC - Heroes|         -|     good| -99.0|\n",
            "|  7| Adam Strange|  Male|     blue|            Human|     Blond| 185.0|        DC Comics|         -|     good|  88.0|\n",
            "|  8|     Agent 13|Female|     blue|                -|     Blond| 173.0|    Marvel Comics|         -|     good|  61.0|\n",
            "|  9|    Agent Bob|  Male|    brown|            Human|     Brown| 178.0|    Marvel Comics|         -|     good|  81.0|\n",
            "+---+-------------+------+---------+-----------------+----------+------+-----------------+----------+---------+------+\n",
            "only showing top 10 rows\n",
            "\n"
          ]
        }
      ]
    },
    {
      "cell_type": "code",
      "source": [
        "df1.filter(df1.Gender == 'Male').count()"
      ],
      "metadata": {
        "colab": {
          "base_uri": "https://localhost:8080/"
        },
        "id": "pt3E089pAHQB",
        "outputId": "d351230d-8aaf-4ea0-c5a3-7737ba8e0396"
      },
      "execution_count": 9,
      "outputs": [
        {
          "output_type": "execute_result",
          "data": {
            "text/plain": [
              "505"
            ]
          },
          "metadata": {},
          "execution_count": 9
        }
      ]
    },
    {
      "cell_type": "code",
      "source": [
        "df1.filter(df1.Gender == 'Female').count()"
      ],
      "metadata": {
        "colab": {
          "base_uri": "https://localhost:8080/"
        },
        "id": "Tp8YoEINAaOR",
        "outputId": "69a8e2e2-6552-4f34-dba0-14a412ef95eb"
      },
      "execution_count": 11,
      "outputs": [
        {
          "output_type": "execute_result",
          "data": {
            "text/plain": [
              "200"
            ]
          },
          "metadata": {},
          "execution_count": 11
        }
      ]
    },
    {
      "cell_type": "code",
      "source": [
        "df1.groupby(\"Race\").count().show()"
      ],
      "metadata": {
        "colab": {
          "base_uri": "https://localhost:8080/"
        },
        "id": "_ECcSq4tAhKH",
        "outputId": "997f5ae1-4134-4c81-d031-0776885bddfb"
      },
      "execution_count": 12,
      "outputs": [
        {
          "output_type": "stream",
          "name": "stdout",
          "text": [
            "+------------------+-----+\n",
            "|              Race|count|\n",
            "+------------------+-----+\n",
            "|          Neyaphem|    1|\n",
            "|          Symbiote|    9|\n",
            "|        Kryptonian|    7|\n",
            "|           Ungaran|    1|\n",
            "|           Martian|    1|\n",
            "|         Strontian|    1|\n",
            "| Human / Radiation|   11|\n",
            "|   Kakarantharaian|    1|\n",
            "|         Metahuman|    2|\n",
            "|Dathomirian Zabrak|    1|\n",
            "|    Human / Cosmic|    2|\n",
            "|   Xenomorph XX121|    1|\n",
            "|            Animal|    4|\n",
            "|       Frost Giant|    2|\n",
            "|            Cyborg|   11|\n",
            "|           Inhuman|    4|\n",
            "|     God / Eternal|   14|\n",
            "|    Yoda's species|    1|\n",
            "|     Icthyo Sapien|    1|\n",
            "|            Rodian|    1|\n",
            "+------------------+-----+\n",
            "only showing top 20 rows\n",
            "\n"
          ]
        }
      ]
    },
    {
      "cell_type": "code",
      "source": [
        ""
      ],
      "metadata": {
        "id": "egvYXkhfAmL7"
      },
      "execution_count": null,
      "outputs": []
    }
  ]
}